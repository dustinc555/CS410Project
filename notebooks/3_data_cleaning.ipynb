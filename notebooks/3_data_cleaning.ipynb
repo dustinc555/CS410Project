{
 "cells": [
  {
   "cell_type": "code",
   "execution_count": 1,
   "id": "a23aff41",
   "metadata": {},
   "outputs": [],
   "source": [
    "import re\n",
    "import pandas as pd\n",
    "\n",
    "file_path = '../data/2_ds2_trimmed.csv'\n",
    "\n",
    "df = pd.read_csv(file_path)\n",
    "df = df.dropna(subset=['tag', 'lyrics'])"
   ]
  },
  {
   "cell_type": "code",
   "execution_count": null,
   "id": "6734f4fd",
   "metadata": {},
   "outputs": [],
   "source": [
    "# Used this to test different chunks of data\n",
    "\n",
    "import pandas as pd\n",
    "column_names = pd.read_csv(file_path, nrows=0).columns\n",
    "\n",
    "chunk_size = 10**5  # Define your chunk size\n",
    "chunk_number = 3     # Specify which chunk you want (e.g., 2nd chunk here)\n",
    "\n",
    "# Calculate the number of rows to skip\n",
    "rows_to_skip = chunk_size * (chunk_number - 1)+1\n",
    "\n",
    "# Load the next chunk with skiprows\n",
    "df = pd.read_csv(file_path, skiprows=rows_to_skip, nrows=chunk_size,  header=None,names=column_names)\n",
    "df['lyrics']=df['lyrics'].astype(str)\n",
    "# Display a sample to verify\n",
    "df.head()"
   ]
  },
  {
   "cell_type": "code",
   "execution_count": null,
   "id": "5fe2ed9f",
   "metadata": {},
   "outputs": [],
   "source": [
    "df.head()"
   ]
  },
  {
   "cell_type": "code",
   "execution_count": 2,
   "id": "adec3435",
   "metadata": {},
   "outputs": [],
   "source": [
    "def clean_lyrics(text):\n",
    "    # Remove all text within square brackets\n",
    "    text = re.sub(r'\\[.*?\\]', '', text)\n",
    "    text = re.sub(r'\\{.*?\\}', '', text)\n",
    "    text = re.sub(r'\\(.*?\\)', '', text)\n",
    "    # Remove any remaining newline characters\n",
    "    text = text.replace('\\n', ' ')\n",
    "    # Remove leading/trailing whitespace\n",
    "    text = text.strip()\n",
    "    return text"
   ]
  },
  {
   "cell_type": "code",
   "execution_count": 3,
   "id": "be94b3de",
   "metadata": {},
   "outputs": [
    {
     "data": {
      "text/html": [
       "<div>\n",
       "<style scoped>\n",
       "    .dataframe tbody tr th:only-of-type {\n",
       "        vertical-align: middle;\n",
       "    }\n",
       "\n",
       "    .dataframe tbody tr th {\n",
       "        vertical-align: top;\n",
       "    }\n",
       "\n",
       "    .dataframe thead th {\n",
       "        text-align: right;\n",
       "    }\n",
       "</style>\n",
       "<table border=\"1\" class=\"dataframe\">\n",
       "  <thead>\n",
       "    <tr style=\"text-align: right;\">\n",
       "      <th></th>\n",
       "      <th>title</th>\n",
       "      <th>tag</th>\n",
       "      <th>artist</th>\n",
       "      <th>year</th>\n",
       "      <th>views</th>\n",
       "      <th>features</th>\n",
       "      <th>lyrics</th>\n",
       "      <th>id</th>\n",
       "    </tr>\n",
       "  </thead>\n",
       "  <tbody>\n",
       "    <tr>\n",
       "      <th>0</th>\n",
       "      <td>Revelation</td>\n",
       "      <td>rock</td>\n",
       "      <td>Zardonic</td>\n",
       "      <td>2018</td>\n",
       "      <td>6680</td>\n",
       "      <td>{}</td>\n",
       "      <td>Try to do it like this, you won't get it Try t...</td>\n",
       "      <td>3849758</td>\n",
       "    </tr>\n",
       "    <tr>\n",
       "      <th>1</th>\n",
       "      <td>Robitussin</td>\n",
       "      <td>rb</td>\n",
       "      <td>OPENPAD</td>\n",
       "      <td>2017</td>\n",
       "      <td>94</td>\n",
       "      <td>{\"Rossi Rock\"}</td>\n",
       "      <td>Saucalini:  Baby what you want, what you need?...</td>\n",
       "      <td>3387226</td>\n",
       "    </tr>\n",
       "    <tr>\n",
       "      <th>2</th>\n",
       "      <td>Tornado</td>\n",
       "      <td>rock</td>\n",
       "      <td>The Hillbilly Moon Explosion</td>\n",
       "      <td>2007</td>\n",
       "      <td>23</td>\n",
       "      <td>{}</td>\n",
       "      <td>Oh she started to rock like a tornado A-whirli...</td>\n",
       "      <td>5407232</td>\n",
       "    </tr>\n",
       "    <tr>\n",
       "      <th>3</th>\n",
       "      <td>All On Me</td>\n",
       "      <td>rap</td>\n",
       "      <td>J Blaze</td>\n",
       "      <td>2022</td>\n",
       "      <td>2</td>\n",
       "      <td>{\"Aj Slimm\"}</td>\n",
       "      <td>The things that I've been through I'm fighting...</td>\n",
       "      <td>7761795</td>\n",
       "    </tr>\n",
       "    <tr>\n",
       "      <th>5</th>\n",
       "      <td>Kevin Gates</td>\n",
       "      <td>rap</td>\n",
       "      <td>Kevin Gates</td>\n",
       "      <td>2018</td>\n",
       "      <td>490</td>\n",
       "      <td>{}</td>\n",
       "      <td>We had some bumps along the way, but the rewar...</td>\n",
       "      <td>3785780</td>\n",
       "    </tr>\n",
       "  </tbody>\n",
       "</table>\n",
       "</div>"
      ],
      "text/plain": [
       "         title   tag                        artist  year  views  \\\n",
       "0   Revelation  rock                      Zardonic  2018   6680   \n",
       "1   Robitussin    rb                       OPENPAD  2017     94   \n",
       "2      Tornado  rock  The Hillbilly Moon Explosion  2007     23   \n",
       "3    All On Me   rap                       J Blaze  2022      2   \n",
       "5  Kevin Gates   rap                   Kevin Gates  2018    490   \n",
       "\n",
       "         features                                             lyrics       id  \n",
       "0              {}  Try to do it like this, you won't get it Try t...  3849758  \n",
       "1  {\"Rossi Rock\"}  Saucalini:  Baby what you want, what you need?...  3387226  \n",
       "2              {}  Oh she started to rock like a tornado A-whirli...  5407232  \n",
       "3    {\"Aj Slimm\"}  The things that I've been through I'm fighting...  7761795  \n",
       "5              {}  We had some bumps along the way, but the rewar...  3785780  "
      ]
     },
     "execution_count": 3,
     "metadata": {},
     "output_type": "execute_result"
    }
   ],
   "source": [
    "# clean out nonuseful words\n",
    "df['lyrics']=df['lyrics'].apply(clean_lyrics)\n",
    "# Keep only lyrics with 20 or more words\n",
    "clean_df = df[df['lyrics'].str.split().str.len() >= 20]\n",
    "\n",
    "# note gets rid of short songs, zero lyrics, intrumentals, and non lric words such as intro chorus etc\n",
    "\n",
    "clean_df.head()"
   ]
  },
  {
   "cell_type": "code",
   "execution_count": 4,
   "id": "0eb7a4e4",
   "metadata": {},
   "outputs": [],
   "source": [
    "# Sample of these short lyrics to inspect\n",
    "#sampled_short_lyrics = short_lyrics.sample(15, random_state=15)\n",
    "\n",
    "# Display the results\n",
    "#for index, lyric in enumerate(sampled_short_lyrics['lyrics'], 1):\n",
    "#    print(f\"Lyrics Sample {index}:\\n{lyric}\\n{'-'*50}\")\n"
   ]
  },
  {
   "cell_type": "code",
   "execution_count": null,
   "id": "c9a7d5d2",
   "metadata": {},
   "outputs": [],
   "source": [
    "from langdetect import detect, DetectorFactory\n",
    "from langdetect.lang_detect_exception import LangDetectException\n",
    "\n",
    "# Ensure consistent results from langdetect\n",
    "DetectorFactory.seed = 0\n",
    "\n",
    "def is_english(text):\n",
    "    try:\n",
    "        # Detect language of text\n",
    "        return detect(text) == 'en'\n",
    "    except LangDetectException:\n",
    "        # If language detection fails, treat it as non-English\n",
    "        return False\n"
   ]
  },
  {
   "cell_type": "code",
   "execution_count": null,
   "id": "929f0d5a",
   "metadata": {},
   "outputs": [],
   "source": [
    "# #This was a check to see if it sorted correctly\n",
    "# # Note this can take a long time with large inputs\n",
    "\n",
    "# # Sample 100 random lyrics along with titles\n",
    "# sampled_lyrics = df[['title', 'lyrics']].sample(100, random_state=5)\n",
    "\n",
    "# # Check each sampled lyric for English language\n",
    "# sampled_lyrics['is_english'] = sampled_lyrics['lyrics'].apply(is_english)\n",
    "\n",
    "# # Filter for non-English lyrics in the sampled set\n",
    "# non_english_lyrics = sampled_lyrics[sampled_lyrics['is_english'] == False]\n",
    "\n",
    "# # Display non-English sampled lyrics\n",
    "# print(\"Sampled Lyrics Detected as Non-English:\")\n",
    "# for index, row in non_english_lyrics.iterrows():\n",
    "#     print(f\"Title: {row['title']}\\nLyrics:\\n{row['lyrics']}\\n{'-'*50}\")\n"
   ]
  },
  {
   "cell_type": "code",
   "execution_count": null,
   "id": "2a575348",
   "metadata": {},
   "outputs": [],
   "source": [
    "# note this can take a very large time recommend trying your computer with a sample first.\n",
    "\n",
    "clean_df = clean_df[clean_df['lyrics'].apply(is_english)]\n"
   ]
  },
  {
   "cell_type": "code",
   "execution_count": null,
   "id": "52252bbd",
   "metadata": {},
   "outputs": [],
   "source": [
    "clean_df.to_csv(\"../data/3_ds3_cleaned.csv\", index=False)\n"
   ]
  }
 ],
 "metadata": {
  "kernelspec": {
   "display_name": "Python 3 (ipykernel)",
   "language": "python",
   "name": "python3"
  },
  "language_info": {
   "codemirror_mode": {
    "name": "ipython",
    "version": 3
   },
   "file_extension": ".py",
   "mimetype": "text/x-python",
   "name": "python",
   "nbconvert_exporter": "python",
   "pygments_lexer": "ipython3",
   "version": "3.11.6"
  }
 },
 "nbformat": 4,
 "nbformat_minor": 5
}
