{
 "cells": [
  {
   "cell_type": "code",
   "execution_count": 1,
   "id": "f030af0c-8e7d-4b92-81ec-1c0d0f9815bd",
   "metadata": {},
   "outputs": [],
   "source": [
    "import numpy as np\n",
    "import pandas as pd\n",
    "import json"
   ]
  },
  {
   "cell_type": "code",
   "execution_count": 2,
   "id": "ad649a63-70b2-4b42-a48b-e91461d4d410",
   "metadata": {},
   "outputs": [],
   "source": [
    "\n",
    "# Load the topic and background models along with weights from a JSON file.\n",
    "\n",
    "# Open the JSON file\n",
    "with open('../data/models/topic_models.json', 'r') as file:\n",
    "    data = file.read()\n",
    "# Parse JSON data into a dictionary\n",
    "topic_models = json.loads(data)\n",
    "\n",
    "with open('../data/models/background_model.json', 'r') as file:\n",
    "    data = file.read()\n",
    "\n",
    "background_models = json.loads(data)"
   ]
  },
  {
   "cell_type": "code",
   "execution_count": 3,
   "id": "09b9786f-e50c-4ba6-9c3a-b07bd8b8f6bc",
   "metadata": {},
   "outputs": [
    {
     "name": "stdout",
     "output_type": "stream",
     "text": [
      "Weight :0.14285714285714285\n"
     ]
    }
   ],
   "source": [
    "# Calculate Weights, Assume equal weights\n",
    "num_genres = len(topic_models)\n",
    "weight = 1 / (num_genres + 1)  # Equal weight for each topic and background\n",
    "print(\"Weight :\" + str(weight))"
   ]
  },
  {
   "cell_type": "code",
   "execution_count": 4,
   "id": "5cc2a31b-4483-4651-a3a5-3a3e849c3bd4",
   "metadata": {},
   "outputs": [],
   "source": [
    "def calculate_likelihood(lyrics, topics, background, topic_weights, background_weight):\n",
    "    \n",
    "    # Calculate the likelihood of the lyrics under each genre.\n",
    "    \n",
    "    # Args:\n",
    "    # lyrics: dict, {word: count}, bag-of-words representation of the song lyrics\n",
    "    # topics: dict, {genre: {word: prob}}, unigram distributions for each genre/topic\n",
    "    # background: dict, {word: prob}, unigram distribution for the background model\n",
    "    # topic_weights: dict, {genre: float}, weights for each topic (sum of all topic_weights < 1)\n",
    "    # background_weight: float, weight for the background model (1 - sum(topic_weights))\n",
    "    \n",
    "    # Returns:\n",
    "    # dict: {genre: likelihood}, likelihood of the lyrics under each genre\n",
    "    \n",
    "    genre_likelihoods = {}\n",
    "\n",
    "    for genre, topic_dist in topics.items():\n",
    "        print(genre)\n",
    "        # print(topic_dist)\n",
    "        likelihood = 0\n",
    "        # print(lyrics)\n",
    "        for word, count in lyrics.items():\n",
    "            # print(\"word:   \" + str(word) + \"   count:    \" + str(count))\n",
    "            # Get probabilities for the word from the topic and background distributions\n",
    "            topic_prob = topic_dist.get(word, 1e-9)  # Small value to avoid zero probabilities\n",
    "            background_prob = background.get(word, 1e-9)  # Small value to avoid zero probabilities\n",
    "            \n",
    "            # Calculate the weighted mixture probability\n",
    "            mix_prob = topic_weights * topic_prob + background_weight * background_prob\n",
    "            likelihood += count * np.log(mix_prob)\n",
    "        \n",
    "        # Store the likelihood for this genre\n",
    "        genre_likelihoods[genre] = likelihood\n",
    "    \n",
    "    return genre_likelihoods"
   ]
  },
  {
   "cell_type": "code",
   "execution_count": 8,
   "id": "c86cb658-4925-4217-94bc-8b7dbb5cbc18",
   "metadata": {},
   "outputs": [],
   "source": [
    "import re\n",
    "def tokenize(lyrics):\n",
    "    words = re.findall(r'\\b[a-zA-Z]{2,}\\b', lyrics.lower())\n",
    "    return words"
   ]
  },
  {
   "cell_type": "code",
   "execution_count": 9,
   "id": "635e3a5d-c8e4-4086-83b6-376c48580528",
   "metadata": {},
   "outputs": [],
   "source": [
    "def list_word_count(word_list):\n",
    "    \"\"\"\n",
    "    Convert a list of words to a dictionary with word counts (manual approach).\n",
    "    \n",
    "    Args:\n",
    "    word_list: list, a list of words (strings)\n",
    "    \n",
    "    Returns:\n",
    "    dict: {word: count}, a dictionary with words as keys and their counts as values\n",
    "    \"\"\"\n",
    "    word_count = {}\n",
    "    for word in word_list:\n",
    "        word_count[word] = word_count.get(word, 0) + 1\n",
    "    return word_count\n"
   ]
  },
  {
   "cell_type": "code",
   "execution_count": 10,
   "id": "9b94635e-bf98-44c8-95f2-3c3cf4702964",
   "metadata": {},
   "outputs": [
    {
     "name": "stdout",
     "output_type": "stream",
     "text": [
      "{'love': 5}\n"
     ]
    }
   ],
   "source": [
    "df = pd.read_csv('../data/3_ds3_cleaned.csv')\n",
    "# lyrics_text= df.iloc[0]['lyrics']\n",
    "lyrics = ' love love love  love love'\n",
    "lyrics = list_word_count(tokenize(lyrics))\n",
    "print(lyrics)"
   ]
  },
  {
   "cell_type": "code",
   "execution_count": 11,
   "id": "eb428daa-64ce-4cd9-87f2-aa8566317c8e",
   "metadata": {},
   "outputs": [
    {
     "name": "stdout",
     "output_type": "stream",
     "text": [
      "rock\n",
      "rb\n",
      "rap\n",
      "misc\n",
      "pop\n",
      "country\n",
      "{'rock': np.float64(-33.74837573914691), 'rb': np.float64(-30.934862861372707), 'rap': np.float64(-34.601047508307424), 'misc': np.float64(-35.93871064318955), 'pop': np.float64(-32.07165682461102), 'country': np.float64(-32.24920193918251)}\n",
      "Predicted Genre: rb\n"
     ]
    }
   ],
   "source": [
    "# priors = {}\n",
    "# lyrics = list_word_count(tokenize(lyrics_text))\n",
    "\n",
    "genre_likelihoods = calculate_likelihood(lyrics, topic_models, background_models, weight, weight)\n",
    "print(genre_likelihoods)\n",
    "\n",
    "predicted_genre = max(genre_likelihoods, key=genre_likelihoods.get)\n",
    "\n",
    "# # Predict genre\n",
    "# predicted_genre, posteriors = predict_genre(lyrics, topic_models, background_models, weight, weight)\n",
    "\n",
    "# # Output\n",
    "print(f\"Predicted Genre: {predicted_genre}\")\n",
    "# print(\"Posterior Probabilities:\", posteriors)"
   ]
  }
 ],
 "metadata": {
  "kernelspec": {
   "display_name": "Python 3 (ipykernel)",
   "language": "python",
   "name": "python3"
  },
  "language_info": {
   "codemirror_mode": {
    "name": "ipython",
    "version": 3
   },
   "file_extension": ".py",
   "mimetype": "text/x-python",
   "name": "python",
   "nbconvert_exporter": "python",
   "pygments_lexer": "ipython3",
   "version": "3.11.6"
  }
 },
 "nbformat": 4,
 "nbformat_minor": 5
}
