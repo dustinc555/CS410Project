{
 "cells": [
  {
   "cell_type": "code",
   "execution_count": 1,
   "id": "f07fb456-a9bc-4ffa-a975-268350c8f682",
   "metadata": {},
   "outputs": [],
   "source": [
    "import pandas as pd\n",
    "import numpy as np\n",
    "from sklearn.feature_extraction.text import CountVectorizer\n",
    "from sklearn.preprocessing import normalize\n",
    "from joblib import load\n",
    "\n",
    "# Constants\n",
    "MODEL_PATH = \"trained_topic_model.joblib\"  # Replace with your trained model file\n",
    "CHUNK_SIZE = 1000  # Number of rows to process at a time\n",
    "INPUT_CSV = \"\"  # Input file with lyrics data\n",
    "OUTPUT_CSV = \"genre_predictions.csv\"  # Output file with genre predictions\n",
    "GENRES = [\"rock\", \"pop\", \"rap\", \"rb\", \"country\"]  # List of genres from the trained model"
   ]
  },
  {
   "cell_type": "code",
   "execution_count": 2,
   "id": "52639c38-3282-4769-a571-cc8a781d1e41",
   "metadata": {},
   "outputs": [],
   "source": [
    "def predict_genre(model, text_data):\n",
    "    \"\"\"\n",
    "    Predict the genre for each song lyric based on the trained model.\n",
    "    :param model: Trained topic model with per-topic word probabilities.\n",
    "    :param text_data: List of song lyrics to classify.\n",
    "    :return: List of predicted genres.\n",
    "    \"\"\"\n",
    "    vectorizer = CountVectorizer()\n",
    "    word_counts = vectorizer.fit_transform(text_data)\n",
    "    word_probs = normalize(word_counts, norm='l1', axis=1)  # Normalize for probabilities\n",
    "\n",
    "    # Predict the topic (genre) for each document\n",
    "    predictions = []\n",
    "    for doc in word_probs:\n",
    "        topic_probs = model.transform(doc)  # Predict topic probabilities\n",
    "        predicted_genre = GENRES[np.argmax(topic_probs)]  # Map highest probability to genre\n",
    "        predictions.append(predicted_genre)\n",
    "    return predictions"
   ]
  },
  {
   "cell_type": "code",
   "execution_count": 3,
   "id": "59c203c8-5853-40a9-beb5-d3b18691fa76",
   "metadata": {},
   "outputs": [],
   "source": [
    "def process_chunks(input_csv, model, output_csv, chunk_size):\n",
    "    \"\"\"\n",
    "    Process the CSV file in chunks to classify genres for each song lyric.\n",
    "    :param input_csv: Input CSV file with song lyrics.\n",
    "    :param model: Trained topic model.\n",
    "    :param output_csv: Output CSV file with genre predictions.\n",
    "    :param chunk_size: Number of rows to process per chunk.\n",
    "    \"\"\"\n",
    "    # Open output CSV to append predictions\n",
    "    with pd.ExcelWriter(output_csv, engine='openpyxl', mode='a') as writer:\n",
    "        for chunk in pd.read_csv(input_csv, chunksize=chunk_size):\n",
    "            # Ensure necessary columns exist\n",
    "            if 'lyrics' not in chunk.columns:\n",
    "                raise ValueError(\"Input CSV must contain a 'lyrics' column.\")\n",
    "\n",
    "            # Predict genres for the chunk\n",
    "            chunk['predicted_genre'] = predict_genre(model, chunk['lyrics'].astype(str))\n",
    "\n",
    "            # Append the chunk to the output file\n",
    "            chunk.to_excel(writer,index=True)"
   ]
  },
  {
   "cell_type": "code",
   "execution_count": 4,
   "id": "f01b4909-a009-4007-a686-41b6a7855afa",
   "metadata": {},
   "outputs": [],
   "source": [
    "def main():\n",
    "    # Load the trained topic model\n",
    "    print(\"Loading trained topic model...\")\n",
    "    model = load(MODEL_PATH)\n",
    "\n",
    "    # Process data in chunks\n",
    "    print(f\"Processing data from {INPUT_CSV} in chunks...\")\n",
    "    process_chunks(INPUT_CSV, model, OUTPUT_CSV, CHUNK_SIZE)\n",
    "\n",
    "    print(f\"Genre predictions saved to {OUTPUT_CSV}.\")"
   ]
  },
  {
   "cell_type": "code",
   "execution_count": null,
   "id": "80bfff98-8607-4367-b7b7-146ab62cce37",
   "metadata": {},
   "outputs": [],
   "source": [
    "if __name__ == \"__main__\":\n",
    "    main()"
   ]
  },
  {
   "cell_type": "code",
   "execution_count": null,
   "id": "c747d591-c631-407e-bb50-4408172a9fce",
   "metadata": {},
   "outputs": [],
   "source": []
  }
 ],
 "metadata": {
  "kernelspec": {
   "display_name": "Python 3 (ipykernel)",
   "language": "python",
   "name": "python3"
  },
  "language_info": {
   "codemirror_mode": {
    "name": "ipython",
    "version": 3
   },
   "file_extension": ".py",
   "mimetype": "text/x-python",
   "name": "python",
   "nbconvert_exporter": "python",
   "pygments_lexer": "ipython3",
   "version": "3.11.6"
  }
 },
 "nbformat": 4,
 "nbformat_minor": 5
}
