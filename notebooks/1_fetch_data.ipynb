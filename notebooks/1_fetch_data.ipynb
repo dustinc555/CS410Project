{
 "cells": [
  {
   "cell_type": "markdown",
   "id": "d61939ec-027d-4821-ab51-80f7fc307d8a",
   "metadata": {},
   "source": [
    "Step 1 '1_fetch_data': This notebook handles the initial data acquisition phase of the project. It automates the process of downloading a large dataset of song lyrics and genres from a Kaggle dataset using the Kaggle CLI. The notebook also includes steps for extracting the downloaded zip file and organizing the data into the appropriate directory for subsequent processing."
   ]
  },
  {
   "cell_type": "code",
   "execution_count": 4,
   "id": "e5e47dbd",
   "metadata": {},
   "outputs": [
    {
     "name": "stdout",
     "output_type": "stream",
     "text": [
      "Dataset URL: https://www.kaggle.com/datasets/nikhilnayak123/5-million-song-lyrics-dataset\n",
      "License(s): unknown\n",
      "Downloading ds2.csv.zip to ../data/pristine\n"
     ]
    },
    {
     "name": "stderr",
     "output_type": "stream",
     "text": [
      "100%|█████████▉| 3.08G/3.09G [01:53<00:00, 22.5MB/s]"
     ]
    },
    {
     "name": "stdout",
     "output_type": "stream",
     "text": [
      "\n"
     ]
    },
    {
     "name": "stderr",
     "output_type": "stream",
     "text": [
      "\r",
      "100%|█████████▉| 3.09G/3.09G [01:53<00:00, 21.3MB/s]\r",
      "100%|██████████| 3.09G/3.09G [01:53<00:00, 29.2MB/s]\n"
     ]
    },
    {
     "data": {
      "text/plain": [
       "CompletedProcess(args=['kaggle', 'datasets', 'download', '-d', 'nikhilnayak123/5-million-song-lyrics-dataset', '-f', 'ds2.csv', '-p', '../data/pristine/'], returncode=0)"
      ]
     },
     "execution_count": 4,
     "metadata": {},
     "output_type": "execute_result"
    }
   ],
   "source": [
    "import os\n",
    "import subprocess\n",
    "\n",
    "# Set the desired paths\n",
    "dataset_path = \"nikhilnayak123/5-million-song-lyrics-dataset\"\n",
    "file_name = \"ds2.csv\"\n",
    "destination_path = \"../data/pristine/\"\n",
    "\n",
    "# Ensure the directory exists\n",
    "os.makedirs(destination_path, exist_ok=True)\n",
    "\n",
    "# Download the specific file using kaggle CLI\n",
    "subprocess.run([\n",
    "    \"kaggle\", \"datasets\", \"download\", \"-d\", dataset_path, \"-f\", file_name, \"-p\", destination_path\n",
    "])\n"
   ]
  },
  {
   "cell_type": "code",
   "execution_count": 5,
   "id": "884c8314",
   "metadata": {},
   "outputs": [],
   "source": [
    "import zipfile\n",
    "import os\n",
    "\n",
    "# Define paths\n",
    "zip_path = \"../data/pristine/ds2.csv.zip\"\n",
    "destination_path = \"../data/pristine/\"\n",
    "\n",
    "# Unzip the file\n",
    "# This takes a long time to complete!!!\n",
    "with zipfile.ZipFile(zip_path, 'r') as zip_ref:\n",
    "    zip_ref.extractall(destination_path)\n",
    "\n",
    "# Remove the zip file\n",
    "os.remove(zip_path)"
   ]
  },
  {
   "cell_type": "code",
   "execution_count": null,
   "id": "76f061b9",
   "metadata": {},
   "outputs": [],
   "source": []
  }
 ],
 "metadata": {
  "kernelspec": {
   "display_name": "Python 3 (ipykernel)",
   "language": "python",
   "name": "python3"
  },
  "language_info": {
   "codemirror_mode": {
    "name": "ipython",
    "version": 3
   },
   "file_extension": ".py",
   "mimetype": "text/x-python",
   "name": "python",
   "nbconvert_exporter": "python",
   "pygments_lexer": "ipython3",
   "version": "3.11.6"
  }
 },
 "nbformat": 4,
 "nbformat_minor": 5
}
