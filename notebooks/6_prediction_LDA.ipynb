{
 "cells": [
  {
   "cell_type": "code",
   "execution_count": 1,
   "id": "2df8f589-2222-4e03-b953-7a7b451586f5",
   "metadata": {},
   "outputs": [],
   "source": [
    "import pandas as pd\n",
    "from sklearn.feature_extraction.text import CountVectorizer\n",
    "from sklearn.decomposition import LatentDirichletAllocation\n",
    "import numpy as np\n",
    "import nltk\n",
    "from nltk.corpus import stopwords, words\n",
    "from collections import Counter, defaultdict\n",
    "from tqdm.notebook import tqdm\n",
    "import re\n",
    "from nltk.stem import PorterStemmer\n",
    "\n"
   ]
  },
  {
   "cell_type": "code",
   "execution_count": 2,
   "id": "b21aa805-b660-463f-a00b-5df61207f3f6",
   "metadata": {},
   "outputs": [
    {
     "name": "stderr",
     "output_type": "stream",
     "text": [
      "[nltk_data] Downloading package stopwords to /home/jovyan/nltk_data...\n",
      "[nltk_data]   Unzipping corpora/stopwords.zip.\n",
      "[nltk_data] Downloading package punkt to /home/jovyan/nltk_data...\n",
      "[nltk_data]   Unzipping tokenizers/punkt.zip.\n"
     ]
    }
   ],
   "source": [
    "# Download NLTK data\n",
    "nltk.download('stopwords')\n",
    "nltk.download('punkt')\n",
    "\n",
    "# Initialize stopwords and stemmer\n",
    "stop_words = set(stopwords.words('english'))\n",
    "stemmer = PorterStemmer()\n",
    "def preprocess_lyrics(lyrics):\n",
    "    import re\n",
    "    from nltk.stem import PorterStemmer\n",
    "    \n",
    "    # Initialize stemmer\n",
    "    stemmer = PorterStemmer()\n",
    "    custom_stopwords = {\"and\", \"the\", \"is\", \"in\", \"on\", \"you\", \"for\", \"with\", \"a\", \"an\", \"to\", \"of\", \"it\"}\n",
    "    # Remove non-alphabetic characters\n",
    "    lyrics = re.sub(r\"[^a-zA-Z\\s]\", \"\", lyrics)\n",
    "    \n",
    "    # Tokenize and preprocess\n",
    "    words = lyrics.lower().split()\n",
    "    processed_words = [stemmer.stem(word) for word in words if word not in custom_stopwords]\n",
    "    return \" \".join(processed_words)"
   ]
  },
  {
   "cell_type": "code",
   "execution_count": 3,
   "id": "6fbc782e-a4da-4953-873f-d2d975ae51f7",
   "metadata": {},
   "outputs": [
    {
     "data": {
      "text/plain": [
       "Index(['lyrics', 'genre'], dtype='object')"
      ]
     },
     "execution_count": 3,
     "metadata": {},
     "output_type": "execute_result"
    }
   ],
   "source": [
    "df1 = pd.read_csv('../data/3_ds3_cleaned.csv')\n",
    "df1.columns\n",
    "df = df1[['lyrics', 'tag']]\n",
    "df.columns = ['lyrics', 'genre']\n",
    "df.columns"
   ]
  },
  {
   "cell_type": "code",
   "execution_count": 4,
   "id": "807ead9c-ec6e-4c7b-bfc8-16e4fb50ae60",
   "metadata": {},
   "outputs": [
    {
     "data": {
      "text/plain": [
       "Index(['lyrics', 'genre'], dtype='object')"
      ]
     },
     "execution_count": 4,
     "metadata": {},
     "output_type": "execute_result"
    }
   ],
   "source": [
    "data = {\n",
    "    'lyrics': [\n",
    "        \"love you forever and dance all night\",  # Pop\n",
    "        \"guitar riffs and loud drums shake the ground\",  # Rock\n",
    "        \"spitting bars, beats on the street, life is tough\",  # Hip-hop\n",
    "        \"broken heart, memories linger, crying alone\",  # Pop\n",
    "        \"rebellion in the air, we fight for freedom\",  # Rock\n",
    "        \"rhymes that hustle, words that flow, beats that kill\"  # Hip-hop\n",
    "    ],\n",
    "    'genre': ['Pop', 'Rock', 'Hip-hop', 'Pop', 'Rock', 'Hip-hop']\n",
    "}\n",
    "\n",
    "df = pd.DataFrame(data)\n",
    "\n",
    "df\n",
    "df.columns"
   ]
  },
  {
   "cell_type": "code",
   "execution_count": 5,
   "id": "11c43b52-81d1-40a9-b2a0-6883fea87860",
   "metadata": {},
   "outputs": [],
   "source": [
    "# Apply preprocessing to lyrics\n",
    "df['lyrics'] = df['lyrics'].apply(preprocess_lyrics)"
   ]
  },
  {
   "cell_type": "code",
   "execution_count": 6,
   "id": "7524b69b-461c-439e-bc5f-e806bbe1de78",
   "metadata": {},
   "outputs": [],
   "source": [
    "# Step 2: Separate Lyrics by Genre\n",
    "grouped_lyrics = df.groupby('genre')['lyrics'].apply(lambda x: ' '.join(x)).to_dict()"
   ]
  },
  {
   "cell_type": "code",
   "execution_count": 7,
   "id": "6a85f37f-0782-4aaf-acd0-e92110b7d301",
   "metadata": {},
   "outputs": [],
   "source": [
    "# Step 3: Build Topic Models for Each Genre\n",
    "vectorizers = {}\n",
    "topic_models = {}\n",
    "\n",
    "for genre, lyrics in grouped_lyrics.items():\n",
    "    # Vectorize lyrics for the genre\n",
    "    vectorizer = CountVectorizer(stop_words='english', max_features=50)\n",
    "    X = vectorizer.fit_transform([lyrics])\n",
    "    vectorizers[genre] = vectorizer\n",
    "\n",
    "    # Fit LDA topic model\n",
    "    lda = LatentDirichletAllocation(n_components=2, random_state=42, max_iter=100)\n",
    "    lda.fit(X)\n",
    "    topic_models[genre] = lda"
   ]
  },
  {
   "cell_type": "code",
   "execution_count": 8,
   "id": "b6e71f7a-0311-4978-9ffe-b1d9c404523c",
   "metadata": {},
   "outputs": [],
   "source": [
    "def predict_genre(new_lyrics):\n",
    "    scores = {}\n",
    "    \n",
    "    for genre, lda in topic_models.items():\n",
    "        # Transform new lyrics using the genre's vectorizer\n",
    "        vectorizer = vectorizers[genre]\n",
    "        X_new = vectorizer.transform([new_lyrics])\n",
    "        \n",
    "        # Calculate log-likelihood of the new song under the genre's topic model\n",
    "        log_likelihood = lda.score(X_new)\n",
    "        scores[genre] = log_likelihood\n",
    "\n",
    "    # Select genre with highest log-likelihood\n",
    "    predicted_genre = max(scores, key=scores.get)\n",
    "    return predicted_genre, scores"
   ]
  },
  {
   "cell_type": "code",
   "execution_count": 10,
   "id": "a08ae4f6-ff0b-4835-8ac5-ddddfe059510",
   "metadata": {},
   "outputs": [
    {
     "name": "stdout",
     "output_type": "stream",
     "text": [
      "Song: guitar and freedom in the air, fighting the world\n",
      "True Genre: Rock\n",
      "Predicted Genre: Pop\n",
      "Log-Likelihoods: {'Hip-hop': np.float64(-3.09354543753377), 'Pop': np.float64(-2.544199904709469), 'Rock': np.float64(-11.552484056709298)}\n",
      "\n",
      "\n",
      "Song: dance and love under the stars all night\n",
      "True Genre: Pop\n",
      "Predicted Genre: Rock\n",
      "Log-Likelihoods: {'Hip-hop': np.float64(-3.09354543753377), 'Pop': np.float64(-8.730526888808452), 'Rock': np.float64(-2.544199904709469)}\n",
      "\n",
      "\n",
      "Song: spitting rhymes and beats, life on the streets\n",
      "True Genre: Hip-hop\n",
      "Predicted Genre: Pop\n",
      "Log-Likelihoods: {'Hip-hop': np.float64(-6.509037702465479), 'Pop': np.float64(-2.544199904709469), 'Rock': np.float64(-2.544199904709469)}\n",
      "\n",
      "\n",
      "Song: I have seen the morning burning golden on the mountain in the skies Aching with the feeling of the freedom of an eagle when she flies Turning \n",
      "True Genre: country\n",
      "Predicted Genre: Pop\n",
      "Log-Likelihoods: {'Hip-hop': np.float64(-3.09354543753377), 'Pop': np.float64(-2.544199904709469), 'Rock': np.float64(-5.805298937691144)}\n",
      "\n",
      "\n"
     ]
    }
   ],
   "source": [
    "test_songs = [\n",
    "    (\"guitar and freedom in the air, fighting the world\", \"Rock\"),\n",
    "    (\"dance and love under the stars all night\", \"Pop\"),\n",
    "    (\"spitting rhymes and beats, life on the streets\", \"Hip-hop\"),\n",
    "    (\"I have seen the morning burning golden on the mountain in the skies Aching with the feeling of the freedom of an eagle when she flies Turning \", \"country\")\n",
    "]\n",
    "\n",
    "predictions = []\n",
    "for lyrics, true_genre in test_songs:\n",
    "    predicted_genre, likelihoods = predict_genre(lyrics)\n",
    "    predictions.append((lyrics, true_genre, predicted_genre, likelihoods))\n",
    "\n",
    "# Display Results\n",
    "for lyrics, true_genre, predicted_genre, likelihoods in predictions:\n",
    "    print(f\"Song: {lyrics}\")\n",
    "    print(f\"True Genre: {true_genre}\")\n",
    "    print(f\"Predicted Genre: {predicted_genre}\")\n",
    "    print(f\"Log-Likelihoods: {likelihoods}\")\n",
    "    print(\"\\n\")\n"
   ]
  },
  {
   "cell_type": "code",
   "execution_count": null,
   "id": "15dab530-ad0c-4342-954f-b787c2ec8562",
   "metadata": {},
   "outputs": [],
   "source": []
  }
 ],
 "metadata": {
  "kernelspec": {
   "display_name": "Python 3 (ipykernel)",
   "language": "python",
   "name": "python3"
  },
  "language_info": {
   "codemirror_mode": {
    "name": "ipython",
    "version": 3
   },
   "file_extension": ".py",
   "mimetype": "text/x-python",
   "name": "python",
   "nbconvert_exporter": "python",
   "pygments_lexer": "ipython3",
   "version": "3.11.6"
  }
 },
 "nbformat": 4,
 "nbformat_minor": 5
}
