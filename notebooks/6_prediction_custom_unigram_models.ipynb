{
 "cells": [
  {
   "cell_type": "markdown",
   "id": "70acf41b-a4d8-4d94-a37d-c72e5c067133",
   "metadata": {},
   "source": [
    "Step 6: This step ‘6_prediction_custom_unigram_models’ uses a pre-trained topic model and background model to classify song lyrics by genre. The process involves tokenizing and preprocessing lyrics, followed by calculating the log-probabilities of words for each genre using the topic and background models. For unseen words, a small fallback probability is applied. The genre with the highest log-probability is selected as the predicted genre. Additionally, the likelihood scores for all genres are normalized and converted into percentages for interpretability. Lastly, The notebook also includes a batch processing step to predict genres for the entire dataset. Finally, the predictions are evaluated against the true genres in the dataset, yielding an overall accuracy score to measure the model's performance."
   ]
  },
  {
   "cell_type": "code",
   "execution_count": 1,
   "id": "2df8f589-2222-4e03-b953-7a7b451586f5",
   "metadata": {},
   "outputs": [],
   "source": [
    "import pandas as pd\n",
    "from sklearn.feature_extraction.text import CountVectorizer\n",
    "from sklearn.decomposition import LatentDirichletAllocation\n",
    "import numpy as np\n",
    "import nltk\n",
    "from nltk.corpus import stopwords, words\n",
    "from collections import Counter, defaultdict\n",
    "from tqdm.notebook import tqdm\n",
    "import re\n",
    "from nltk.stem import PorterStemmer\n",
    "import json\n"
   ]
  },
  {
   "cell_type": "code",
   "execution_count": 2,
   "id": "286f24e7-85f0-481c-a65d-d24b2f34661e",
   "metadata": {},
   "outputs": [],
   "source": [
    "# Load data\n",
    "df = pd.read_csv('../data/3_ds3_cleaned.csv')\n",
    "\n",
    "# Load models\n",
    "with open('../data/models/background_model.json') as f:\n",
    "    background_model = json.load(f)\n",
    "\n",
    "with open('../data/models/topic_models.json') as f:  # Change this to topic_models_nostopwords.json if needed\n",
    "    topic_models = json.load(f)"
   ]
  },
  {
   "cell_type": "code",
   "execution_count": 3,
   "id": "b6e71f7a-0311-4978-9ffe-b1d9c404523c",
   "metadata": {},
   "outputs": [
    {
     "name": "stderr",
     "output_type": "stream",
     "text": [
      "[nltk_data] Downloading package words to /home/jovyan/nltk_data...\n",
      "[nltk_data]   Package words is already up-to-date!\n",
      "[nltk_data] Downloading package stopwords to /home/jovyan/nltk_data...\n",
      "[nltk_data]   Package stopwords is already up-to-date!\n"
     ]
    }
   ],
   "source": [
    "nltk.download('words')\n",
    "nltk.download('stopwords')\n",
    "valid_words = set(words.words())\n",
    "stop_words = set(stopwords.words('english'))\n",
    "\n",
    "# Mangle the words coming in\n",
    "def tokenize(text, remove_stopwords=False, filter_non_words=True):\n",
    "    words = re.findall(r'\\b[a-zA-Z]{2,}\\b', text.lower())\n",
    "    if filter_non_words:\n",
    "        words = [word for word in words if word in valid_words]\n",
    "    if remove_stopwords:\n",
    "        stop_words = set(stopwords.words('english'))\n",
    "        words = [word for word in words if word not in stop_words]\n",
    "    return words\n",
    "\n",
    "\n",
    "def predict_genre(new_lyrics, remove_stopwords=False, filter_non_words=True):\n",
    "    scores = {}\n",
    "    \n",
    "    # Tokenize the lyrics\n",
    "    words = tokenize(new_lyrics, remove_stopwords=remove_stopwords, filter_non_words=filter_non_words)\n",
    "    \n",
    "    for genre, word_probs in topic_models.items():\n",
    "        log_prob = 0.0\n",
    "        \n",
    "        for word in words:\n",
    "            # Use topic model probabilities or fallback to background model\n",
    "            word_prob = word_probs.get(word, background_model.get(word, 1e-9))  # Small prob for unseen words\n",
    "            log_prob += np.log(word_prob)\n",
    "        \n",
    "        scores[genre] = log_prob\n",
    "\n",
    "    # Select the genre with the highest log-probability\n",
    "    predicted_genre = max(scores, key=scores.get)\n",
    "    return predicted_genre, scores"
   ]
  },
  {
   "cell_type": "code",
   "execution_count": 13,
   "id": "a08ae4f6-ff0b-4835-8ac5-ddddfe059510",
   "metadata": {},
   "outputs": [
    {
     "name": "stdout",
     "output_type": "stream",
     "text": [
      "Test Lyrics: On warm summers evening, on a train bound for nowhere\n",
      "Predicted Genre: country\n",
      "Likelihoods as Percentages:\n",
      "  rock: 7.56%\n",
      "  rb: 0.51%\n",
      "  rap: 0.06%\n",
      "  misc: 0.61%\n",
      "  pop: 3.78%\n",
      "  country: 87.49%\n",
      "\n",
      "\n"
     ]
    }
   ],
   "source": [
    "test_songs = [\"On warm summers evening, on a train bound for nowhere\"]\n",
    "\n",
    "predictions = []\n",
    "for lyrics in test_songs:\n",
    "    predicted_genre, likelihoods = predict_genre(lyrics)\n",
    "    \n",
    "    # Convert log-likelihoods to probabilities\n",
    "    exp_likelihoods = {genre: np.exp(log_likelihood) for genre, log_likelihood in likelihoods.items()}\n",
    "    total_exp = sum(exp_likelihoods.values())\n",
    "    normalized_likelihoods = {genre: (prob / total_exp) * 100 for genre, prob in exp_likelihoods.items()}  # Convert to percentages\n",
    "    \n",
    "    predictions.append((lyrics, predicted_genre, normalized_likelihoods))\n",
    "\n",
    "# Display Results\n",
    "for lyrics, predicted_genre, likelihoods in predictions:\n",
    "    print(f\"Test Lyrics: {lyrics}\")\n",
    "    print(f\"Predicted Genre: {predicted_genre}\")\n",
    "    print(\"Likelihoods as Percentages:\")\n",
    "    for genre, percent in likelihoods.items():\n",
    "        print(f\"  {genre}: {percent:.2f}%\")\n",
    "    print(\"\\n\")\n",
    "\n"
   ]
  },
  {
   "cell_type": "code",
   "execution_count": 5,
   "id": "15dab530-ad0c-4342-954f-b787c2ec8562",
   "metadata": {},
   "outputs": [
    {
     "data": {
      "application/vnd.jupyter.widget-view+json": {
       "model_id": "e890e2a52b954fefb192823a47de96b2",
       "version_major": 2,
       "version_minor": 0
      },
      "text/plain": [
       "  0%|          | 0/67606 [00:00<?, ?it/s]"
      ]
     },
     "metadata": {},
     "output_type": "display_data"
    },
    {
     "name": "stdout",
     "output_type": "stream",
     "text": [
      "Accuracy score: 0.5842380853770376\n"
     ]
    }
   ],
   "source": [
    "from tqdm.notebook import tqdm\n",
    "from sklearn.metrics import accuracy_score\n",
    "\n",
    "# Enable tqdm for pandas apply\n",
    "tqdm.pandas()\n",
    "\n",
    "# Apply the prediction function with tqdm's progress bar\n",
    "df['predicted_genre'] = df['lyrics'].progress_apply(lambda lyrics: predict_genre(lyrics)[0])\n",
    "\n",
    "# Calculate the accuracy\n",
    "accuracy = accuracy_score(df['tag'], df['predicted_genre'])\n",
    "\n",
    "print(f\"Accuracy score: {accuracy}\")\n"
   ]
  },
  {
   "cell_type": "code",
   "execution_count": null,
   "id": "d48f1260-2c27-446d-b8cf-9920142ae806",
   "metadata": {},
   "outputs": [],
   "source": []
  }
 ],
 "metadata": {
  "kernelspec": {
   "display_name": "Python 3 (ipykernel)",
   "language": "python",
   "name": "python3"
  },
  "language_info": {
   "codemirror_mode": {
    "name": "ipython",
    "version": 3
   },
   "file_extension": ".py",
   "mimetype": "text/x-python",
   "name": "python",
   "nbconvert_exporter": "python",
   "pygments_lexer": "ipython3",
   "version": "3.11.6"
  }
 },
 "nbformat": 4,
 "nbformat_minor": 5
}
