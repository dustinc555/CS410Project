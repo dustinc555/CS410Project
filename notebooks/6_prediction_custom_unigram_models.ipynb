{
 "cells": [
  {
   "cell_type": "code",
   "execution_count": 20,
   "id": "2df8f589-2222-4e03-b953-7a7b451586f5",
   "metadata": {},
   "outputs": [],
   "source": [
    "import pandas as pd\n",
    "from sklearn.feature_extraction.text import CountVectorizer\n",
    "from sklearn.decomposition import LatentDirichletAllocation\n",
    "import numpy as np\n",
    "import nltk\n",
    "from nltk.corpus import stopwords, words\n",
    "from collections import Counter, defaultdict\n",
    "from tqdm.notebook import tqdm\n",
    "import re\n",
    "from nltk.stem import PorterStemmer\n",
    "import json\n"
   ]
  },
  {
   "cell_type": "code",
   "execution_count": 21,
   "id": "286f24e7-85f0-481c-a65d-d24b2f34661e",
   "metadata": {},
   "outputs": [],
   "source": [
    "# Load models\n",
    "with open('../data/models/background_model.json') as f:\n",
    "    background_model = json.load(f)\n",
    "\n",
    "with open('../data/models/topic_models.json') as f:  # Change this to topic_models_nostopwords.json if needed\n",
    "    topic_models = json.load(f)"
   ]
  },
  {
   "cell_type": "code",
   "execution_count": 22,
   "id": "b6e71f7a-0311-4978-9ffe-b1d9c404523c",
   "metadata": {},
   "outputs": [
    {
     "name": "stderr",
     "output_type": "stream",
     "text": [
      "[nltk_data] Downloading package words to /home/jovyan/nltk_data...\n",
      "[nltk_data]   Unzipping corpora/words.zip.\n",
      "[nltk_data] Downloading package stopwords to /home/jovyan/nltk_data...\n",
      "[nltk_data]   Package stopwords is already up-to-date!\n"
     ]
    }
   ],
   "source": [
    "nltk.download('words')\n",
    "nltk.download('stopwords')\n",
    "valid_words = set(words.words())\n",
    "stop_words = set(stopwords.words('english'))\n",
    "\n",
    "# Mangle the words coming in\n",
    "def tokenize(text, remove_stopwords=False, filter_non_words=True):\n",
    "    words = re.findall(r'\\b[a-zA-Z]{2,}\\b', text.lower())\n",
    "    if filter_non_words:\n",
    "        words = [word for word in words if word in valid_words]\n",
    "    if remove_stopwords:\n",
    "        stop_words = set(stopwords.words('english'))\n",
    "        words = [word for word in words if word not in stop_words]\n",
    "    return words\n",
    "\n",
    "\n",
    "def predict_genre(new_lyrics, remove_stopwords=False, filter_non_words=True):\n",
    "    scores = {}\n",
    "    \n",
    "    # Tokenize the lyrics\n",
    "    words = tokenize(new_lyrics, remove_stopwords=remove_stopwords, filter_non_words=filter_non_words)\n",
    "    \n",
    "    for genre, word_probs in topic_models.items():\n",
    "        log_prob = 0.0\n",
    "        \n",
    "        for word in words:\n",
    "            # Use topic model probabilities or fallback to background model\n",
    "            word_prob = word_probs.get(word, background_model.get(word, 1e-9))  # Small prob for unseen words\n",
    "            log_prob += np.log(word_prob)\n",
    "        \n",
    "        scores[genre] = log_prob\n",
    "\n",
    "    # Select the genre with the highest log-probability\n",
    "    predicted_genre = max(scores, key=scores.get)\n",
    "    return predicted_genre, scores"
   ]
  },
  {
   "cell_type": "code",
   "execution_count": 23,
   "id": "a08ae4f6-ff0b-4835-8ac5-ddddfe059510",
   "metadata": {},
   "outputs": [
    {
     "name": "stdout",
     "output_type": "stream",
     "text": [
      "Song: guitar and freedom in the air, fighting the world\n",
      "True Genre: Rock\n",
      "Predicted Genre: rock\n",
      "Log-Likelihoods: {'rock': np.float64(-54.7387339075022), 'rb': np.float64(-59.1924350853455), 'rap': np.float64(-59.61366399841251), 'misc': np.float64(-56.774743253423196), 'pop': np.float64(-55.96413841647568), 'country': np.float64(-54.74796360040183)}\n",
      "\n",
      "\n",
      "Song: dance and love under the stars all night\n",
      "True Genre: Pop\n",
      "Predicted Genre: pop\n",
      "Log-Likelihoods: {'rock': np.float64(-38.355537210402204), 'rb': np.float64(-38.565279137630064), 'rap': np.float64(-41.05787349061866), 'misc': np.float64(-41.500289990146854), 'pop': np.float64(-37.56322411660666), 'country': np.float64(-37.82187248328718)}\n",
      "\n",
      "\n",
      "Song: spitting rhymes and beats, life on the streets\n",
      "True Genre: Hip-hop\n",
      "Predicted Genre: rap\n",
      "Log-Likelihoods: {'rock': np.float64(-36.88738635172477), 'rb': np.float64(-38.65519664284065), 'rap': np.float64(-34.27214494842883), 'misc': np.float64(-39.28810351734895), 'pop': np.float64(-38.00733556983028), 'country': np.float64(-38.493770287459355)}\n",
      "\n",
      "\n",
      "Song: I have seen the morning burning golden on the mountain in the skies Aching with the feeling of the freedom of an eagle when she flies Turning \n",
      "True Genre: country\n",
      "Predicted Genre: country\n",
      "Log-Likelihoods: {'rock': np.float64(-155.37067383477927), 'rb': np.float64(-166.24851868339047), 'rap': np.float64(-166.01310196109227), 'misc': np.float64(-158.96752937540873), 'pop': np.float64(-158.84352988046788), 'country': np.float64(-155.03427771974668)}\n",
      "\n",
      "\n"
     ]
    }
   ],
   "source": [
    "test_songs = [\n",
    "    (\"guitar and freedom in the air, fighting the world\", \"Rock\"),\n",
    "    (\"dance and love under the stars all night\", \"Pop\"),\n",
    "    (\"spitting rhymes and beats, life on the streets\", \"Hip-hop\"),\n",
    "    (\"I have seen the morning burning golden on the mountain in the skies Aching with the feeling of the freedom of an eagle when she flies Turning \", \"country\")\n",
    "]\n",
    "\n",
    "predictions = []\n",
    "for lyrics, true_genre in test_songs:\n",
    "    predicted_genre, likelihoods = predict_genre(lyrics)\n",
    "    predictions.append((lyrics, true_genre, predicted_genre, likelihoods))\n",
    "\n",
    "# Display Results\n",
    "for lyrics, true_genre, predicted_genre, likelihoods in predictions:\n",
    "    print(f\"Song: {lyrics}\")\n",
    "    print(f\"True Genre: {true_genre}\")\n",
    "    print(f\"Predicted Genre: {predicted_genre}\")\n",
    "    print(f\"Log-Likelihoods: {likelihoods}\")\n",
    "    print(\"\\n\")\n"
   ]
  },
  {
   "cell_type": "code",
   "execution_count": null,
   "id": "15dab530-ad0c-4342-954f-b787c2ec8562",
   "metadata": {},
   "outputs": [
    {
     "data": {
      "application/vnd.jupyter.widget-view+json": {
       "model_id": "ad1fb8acf5e548f69bae8cc2287df406",
       "version_major": 2,
       "version_minor": 0
      },
      "text/plain": [
       "  0%|          | 0/67606 [00:00<?, ?it/s]"
      ]
     },
     "metadata": {},
     "output_type": "display_data"
    }
   ],
   "source": [
    "from tqdm.notebook import tqdm\n",
    "from sklearn.metrics import accuracy_score\n",
    "\n",
    "# Enable tqdm for pandas apply\n",
    "tqdm.pandas()\n",
    "\n",
    "# Apply the prediction function with tqdm's progress bar\n",
    "df1['predicted_genre'] = df1['lyrics'].progress_apply(lambda lyrics: predict_genre(lyrics)[0])\n",
    "\n",
    "# Calculate the accuracy\n",
    "accuracy = accuracy_score(df1['tag'], df1['predicted_genre'])\n",
    "\n",
    "print(f\"Accuracy score: {accuracy}\")\n"
   ]
  },
  {
   "cell_type": "code",
   "execution_count": null,
   "id": "d48f1260-2c27-446d-b8cf-9920142ae806",
   "metadata": {},
   "outputs": [],
   "source": []
  }
 ],
 "metadata": {
  "kernelspec": {
   "display_name": "Python 3 (ipykernel)",
   "language": "python",
   "name": "python3"
  },
  "language_info": {
   "codemirror_mode": {
    "name": "ipython",
    "version": 3
   },
   "file_extension": ".py",
   "mimetype": "text/x-python",
   "name": "python",
   "nbconvert_exporter": "python",
   "pygments_lexer": "ipython3",
   "version": "3.11.6"
  }
 },
 "nbformat": 4,
 "nbformat_minor": 5
}
