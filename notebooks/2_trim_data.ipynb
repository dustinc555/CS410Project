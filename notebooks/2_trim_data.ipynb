{
 "cells": [
  {
   "cell_type": "code",
   "execution_count": null,
   "id": "a6c2b380",
   "metadata": {},
   "outputs": [],
   "source": [
    "import pandas as pd\n",
    "\n",
    "# Set the path to the input CSV and output CSV\n",
    "input_csv = '../data/pristine/ds2.csv'\n",
    "output_csv = '../data/pristine/2_ds2_trimmed.csv' \n",
    "\n",
    "# Set the number of entries in the output table\n",
    "sample_size = 100000 \n",
    "\n",
    "\n",
    "# Set number of rows to be processed at a time. You can adjust this value based on your available memory\n",
    "chunk_size = 5000\n",
    "is_first_chunk = True\n",
    "\n",
    "#Set total number of rows in csv. There is are ways to calculate this, but most are memory intensive.\n",
    "total_rows = 5000000\n",
    "\n",
    "# Get how many rows will be generated in the output file per chunk\n",
    "chunk_sample_size = sample_size // chunk_size\n",
    "\n",
    "# Initialize tag_counts as an empty pandas Series\n",
    "tag_counts = pd.Series(dtype=int)    \n",
    "\n",
    "# Process each chunk \n",
    "def process_chunk(chunk):\n",
    "    tags = chunk['tag'].unique()\n",
    "    sample_size_per_tag = chunk_sample_size // len(tags)\n",
    "\n",
    "    # Collect samples for each tag\n",
    "    sampled_chunk = pd.concat(\n",
    "        [chunk[chunk['tag'] == tag].sample(n=sample_size_per_tag, replace=True, random_state=42) for tag in tags]\n",
    "    )\n",
    "\n",
    "    # Count the tags in the current chunk\n",
    "    chunk_tag_counts = chunk['tag'].value_counts()\n",
    "    \n",
    "    # Add the current chunk's tag counts to the running total\n",
    "    global tag_counts\n",
    "    tag_counts = tag_counts.add(chunk_tag_counts, fill_value=0)\n",
    "\n",
    "    # Shuffle the final DataFrame to mix tag categories\n",
    "    sampled_chunk = sampled_chunk.sample(frac=1, random_state=42).reset_index(drop=True)\n",
    "\n",
    "    return sampled_chunk\n",
    "\n",
    "# Read the CSV file in chunks\n",
    "for chunk in pd.read_csv(input_csv, chunksize=chunk_size):\n",
    "    # Process the chunk\n",
    "    processed_chunk = process_chunk(chunk)\n",
    "    \n",
    "    # Write the processed chunk to the output CSV file\n",
    "    if is_first_chunk:\n",
    "        # Write header only for the first chunk\n",
    "        processed_chunk.to_csv(output_csv, mode='w', header=True, index=False)\n",
    "        is_first_chunk = False\n",
    "    else:\n",
    "        # Append subsequent chunks without the header\n",
    "        processed_chunk.to_csv(output_csv, mode='a', header=False, index=False)\n",
    "\n",
    "print(\"Processing complete. The processed file is saved as\", output_csv)"
   ]
  },
  {
   "cell_type": "code",
   "execution_count": null,
   "id": "bc26367c",
   "metadata": {},
   "outputs": [],
   "source": [
    "def print_head(csv_file):\n",
    "    # Read the first 5 rows of the CSV file into a DataFrame\n",
    "    df = pd.read_csv(csv_file, nrows=5)\n",
    "\n",
    "    # Print the DataFrame\n",
    "    print(df)\n",
    "            \n",
    "print_head(input_csv)"
   ]
  },
  {
   "cell_type": "code",
   "execution_count": null,
   "id": "fbc7f4d2",
   "metadata": {},
   "outputs": [],
   "source": [
    "def print_tag_summary ():\n",
    "    #Calculate tag percentages\n",
    "    global tag_counts\n",
    "    tag_percentages = (tag_counts / total_rows) * 100  # percentage calculation\n",
    "\n",
    "    # Combine counts and percentages into a DataFrame for clarity\n",
    "    tag_summary = pd.DataFrame({\n",
    "        'count': tag_counts,\n",
    "        'percentage': tag_percentages\n",
    "    })\n",
    "    print(tag_summary)\n",
    "\n",
    "print_tag_summary()"
   ]
  },
  {
   "cell_type": "code",
   "execution_count": 13,
   "id": "3d7c3c36",
   "metadata": {},
   "outputs": [],
   "source": [
    "# Load the dataset\n",
    "#file_path = \"../data/pristine/ds2.csv\"\n",
    "\n",
    "#df = pd.read_csv(file_path)\n",
    "\n",
    "# Display the first few rows\n",
    "#df.head()"
   ]
  },
  {
   "cell_type": "code",
   "execution_count": 2,
   "id": "64d8d8f0",
   "metadata": {},
   "outputs": [
    {
     "name": "stdout",
     "output_type": "stream",
     "text": [
      "           count  percentage\n",
      "tag                         \n",
      "pop      2519256   42.602417\n",
      "rap      1962010   33.178989\n",
      "rock      892220   15.088077\n",
      "rb        225342    3.810694\n",
      "misc      208714    3.529503\n",
      "country   105869    1.790320\n"
     ]
    }
   ],
   "source": [
    "# TODO: Incorparate this into logic above\n",
    "def print_summary(a_df):\n",
    "    tag_counts = a_df['tag'].value_counts()\n",
    "    tag_percentages = (tag_counts / len(a_df)) * 100  # percentage calculation\n",
    "\n",
    "    # Combine counts and percentages into a DataFrame for clarity\n",
    "    tag_summary = pd.DataFrame({\n",
    "        'count': tag_counts,\n",
    "        'percentage': tag_percentages\n",
    "    })\n",
    "\n",
    "    # Print the summary table\n",
    "    print(tag_summary)\n",
    "\n",
    "\n",
    "# Print the summary table\n",
    "#print_summary(df)\n"
   ]
  },
  {
   "cell_type": "code",
   "execution_count": 3,
   "id": "85fecbde",
   "metadata": {
    "scrolled": true
   },
   "outputs": [
    {
     "name": "stdout",
     "output_type": "stream",
     "text": [
      "         count  percentage\n",
      "tag                       \n",
      "rock     16666   16.666667\n",
      "rb       16666   16.666667\n",
      "rap      16666   16.666667\n",
      "misc     16666   16.666667\n",
      "pop      16666   16.666667\n",
      "country  16666   16.666667\n"
     ]
    }
   ],
   "source": [
    "# Assuming `df` is your DataFrame and `tag` is the name of the column with tags\n",
    "# tags = df['tag'].unique()\n",
    "# sample_size_per_tag = 100_000 // len(tags)\n",
    "\n",
    "# Collect samples for each tag\n",
    "#sampled_df = pd.concat(\n",
    "#    [df[df['tag'] == tag].sample(n=sample_size_per_tag, replace=True, random_state=42) for tag in tags]\n",
    "#)\n",
    "\n",
    "# Shuffle the final DataFrame to mix tag categories\n",
    "#sampled_df = sampled_df.sample(frac=1, random_state=42).reset_index(drop=True)\n",
    "\n",
    "#print_summary(sampled_df)\n"
   ]
  },
  {
   "cell_type": "code",
   "execution_count": 4,
   "id": "4f2fdc22",
   "metadata": {},
   "outputs": [],
   "source": [
    "#sampled_df.to_csv(\"../data/2_ds2_trimmed.csv\", index=False)\n"
   ]
  },
  {
   "cell_type": "code",
   "execution_count": null,
   "id": "f4e16c42",
   "metadata": {},
   "outputs": [],
   "source": []
  }
 ],
 "metadata": {
  "kernelspec": {
   "display_name": "Python 3 (ipykernel)",
   "language": "python",
   "name": "python3"
  },
  "language_info": {
   "codemirror_mode": {
    "name": "ipython",
    "version": 3
   },
   "file_extension": ".py",
   "mimetype": "text/x-python",
   "name": "python",
   "nbconvert_exporter": "python",
   "pygments_lexer": "ipython3",
   "version": "3.11.6"
  }
 },
 "nbformat": 4,
 "nbformat_minor": 5
}
