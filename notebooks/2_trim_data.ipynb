{
 "cells": [
  {
   "cell_type": "code",
   "execution_count": 1,
   "id": "3d7c3c36",
   "metadata": {},
   "outputs": [
    {
     "data": {
      "text/html": [
       "<div>\n",
       "<style scoped>\n",
       "    .dataframe tbody tr th:only-of-type {\n",
       "        vertical-align: middle;\n",
       "    }\n",
       "\n",
       "    .dataframe tbody tr th {\n",
       "        vertical-align: top;\n",
       "    }\n",
       "\n",
       "    .dataframe thead th {\n",
       "        text-align: right;\n",
       "    }\n",
       "</style>\n",
       "<table border=\"1\" class=\"dataframe\">\n",
       "  <thead>\n",
       "    <tr style=\"text-align: right;\">\n",
       "      <th></th>\n",
       "      <th>title</th>\n",
       "      <th>tag</th>\n",
       "      <th>artist</th>\n",
       "      <th>year</th>\n",
       "      <th>views</th>\n",
       "      <th>features</th>\n",
       "      <th>lyrics</th>\n",
       "      <th>id</th>\n",
       "    </tr>\n",
       "  </thead>\n",
       "  <tbody>\n",
       "    <tr>\n",
       "      <th>0</th>\n",
       "      <td>Killa Cam</td>\n",
       "      <td>rap</td>\n",
       "      <td>Cam'ron</td>\n",
       "      <td>2004</td>\n",
       "      <td>173166</td>\n",
       "      <td>{\"Cam\\\\'ron\",\"Opera Steve\"}</td>\n",
       "      <td>[Chorus: Opera Steve &amp; Cam'ron]\\nKilla Cam, Ki...</td>\n",
       "      <td>1</td>\n",
       "    </tr>\n",
       "    <tr>\n",
       "      <th>1</th>\n",
       "      <td>Can I Live</td>\n",
       "      <td>rap</td>\n",
       "      <td>JAY-Z</td>\n",
       "      <td>1996</td>\n",
       "      <td>468624</td>\n",
       "      <td>{}</td>\n",
       "      <td>[Produced by Irv Gotti]\\n\\n[Intro]\\nYeah, hah,...</td>\n",
       "      <td>3</td>\n",
       "    </tr>\n",
       "    <tr>\n",
       "      <th>2</th>\n",
       "      <td>Forgive Me Father</td>\n",
       "      <td>rap</td>\n",
       "      <td>Fabolous</td>\n",
       "      <td>2003</td>\n",
       "      <td>4743</td>\n",
       "      <td>{}</td>\n",
       "      <td>Maybe cause I'm eatin\\nAnd these bastards fien...</td>\n",
       "      <td>4</td>\n",
       "    </tr>\n",
       "    <tr>\n",
       "      <th>3</th>\n",
       "      <td>Down and Out</td>\n",
       "      <td>rap</td>\n",
       "      <td>Cam'ron</td>\n",
       "      <td>2004</td>\n",
       "      <td>144404</td>\n",
       "      <td>{\"Cam\\\\'ron\",\"Kanye West\",\"Syleena Johnson\"}</td>\n",
       "      <td>[Produced by Kanye West and Brian Miller]\\n\\n[...</td>\n",
       "      <td>5</td>\n",
       "    </tr>\n",
       "    <tr>\n",
       "      <th>4</th>\n",
       "      <td>Fly In</td>\n",
       "      <td>rap</td>\n",
       "      <td>Lil Wayne</td>\n",
       "      <td>2005</td>\n",
       "      <td>78271</td>\n",
       "      <td>{}</td>\n",
       "      <td>[Intro]\\nSo they ask me\\n\"Young boy\\nWhat you ...</td>\n",
       "      <td>6</td>\n",
       "    </tr>\n",
       "  </tbody>\n",
       "</table>\n",
       "</div>"
      ],
      "text/plain": [
       "               title  tag     artist  year   views  \\\n",
       "0          Killa Cam  rap    Cam'ron  2004  173166   \n",
       "1         Can I Live  rap      JAY-Z  1996  468624   \n",
       "2  Forgive Me Father  rap   Fabolous  2003    4743   \n",
       "3       Down and Out  rap    Cam'ron  2004  144404   \n",
       "4             Fly In  rap  Lil Wayne  2005   78271   \n",
       "\n",
       "                                       features  \\\n",
       "0                   {\"Cam\\\\'ron\",\"Opera Steve\"}   \n",
       "1                                            {}   \n",
       "2                                            {}   \n",
       "3  {\"Cam\\\\'ron\",\"Kanye West\",\"Syleena Johnson\"}   \n",
       "4                                            {}   \n",
       "\n",
       "                                              lyrics  id  \n",
       "0  [Chorus: Opera Steve & Cam'ron]\\nKilla Cam, Ki...   1  \n",
       "1  [Produced by Irv Gotti]\\n\\n[Intro]\\nYeah, hah,...   3  \n",
       "2  Maybe cause I'm eatin\\nAnd these bastards fien...   4  \n",
       "3  [Produced by Kanye West and Brian Miller]\\n\\n[...   5  \n",
       "4  [Intro]\\nSo they ask me\\n\"Young boy\\nWhat you ...   6  "
      ]
     },
     "execution_count": 1,
     "metadata": {},
     "output_type": "execute_result"
    }
   ],
   "source": [
    "import pandas as pd\n",
    "\n",
    "# Load the dataset\n",
    "file_path = \"../data/pristine/ds2.csv\"\n",
    "df = pd.read_csv(file_path)\n",
    "\n",
    "# Display the first few rows\n",
    "df.head()"
   ]
  },
  {
   "cell_type": "code",
   "execution_count": 2,
   "id": "64d8d8f0",
   "metadata": {},
   "outputs": [
    {
     "name": "stdout",
     "output_type": "stream",
     "text": [
      "           count  percentage\n",
      "tag                         \n",
      "pop      2519256   42.602417\n",
      "rap      1962010   33.178989\n",
      "rock      892220   15.088077\n",
      "rb        225342    3.810694\n",
      "misc      208714    3.529503\n",
      "country   105869    1.790320\n"
     ]
    }
   ],
   "source": [
    "tag_counts = df['tag'].value_counts()\n",
    "tag_percentages = (tag_counts / len(df)) * 100  # percentage calculation\n",
    "\n",
    "# Combine counts and percentages into a DataFrame for clarity\n",
    "tag_summary = pd.DataFrame({\n",
    "    'count': tag_counts,\n",
    "    'percentage': tag_percentages\n",
    "})\n",
    "\n",
    "# Print the summary table\n",
    "print(tag_summary)\n"
   ]
  },
  {
   "cell_type": "code",
   "execution_count": 16,
   "id": "85fecbde",
   "metadata": {
    "scrolled": true
   },
   "outputs": [
    {
     "name": "stdout",
     "output_type": "stream",
     "text": [
      "           count  percentage\n",
      "tag                         \n",
      "pop      1259628   34.296328\n",
      "rap       981005   26.710163\n",
      "rock      892220   24.292783\n",
      "rb        225342    6.135465\n",
      "misc      208714    5.682728\n",
      "country   105869    2.882532\n"
     ]
    }
   ],
   "source": [
    "def exclude_percent(df, tag, percent):\n",
    "    tag_rows = df[df['tag'] == tag]\n",
    "    sample_to_exclude = tag_rows.sample(frac=percent, random_state=42)  # Adjust random_state for reproducibility\n",
    "    return df.drop(sample_to_exclude.index)\n",
    "\n",
    "df_orig = df\n",
    "\n",
    "df_trimmed = exclude_percent(df, 'pop', .5)\n",
    "df_trimmed = exclude_percent(df_trimmed, 'rap', .5)\n",
    "\n",
    "tag_counts = df_trimmed['tag'].value_counts()\n",
    "tag_percentages = (tag_counts / len(df_trimmed)) * 100  # percentage calculation\n",
    "\n",
    "# Combine counts and percentages into a DataFrame for clarity\n",
    "tag_summary = pd.DataFrame({\n",
    "    'count': tag_counts,\n",
    "    'percentage': tag_percentages\n",
    "})\n",
    "\n",
    "# Print the summary table\n",
    "# \n",
    "print(tag_summary)\n"
   ]
  },
  {
   "cell_type": "code",
   "execution_count": 14,
   "id": "c3b1eda2",
   "metadata": {},
   "outputs": [],
   "source": [
    "# The data is about 5.4G so lets trimm it some more\n",
    "df_trimmed_final = df_trimmed.sample(frac=0.5, random_state=42)"
   ]
  },
  {
   "cell_type": "code",
   "execution_count": 15,
   "id": "4f2fdc22",
   "metadata": {},
   "outputs": [],
   "source": [
    "df_trimmed_final.to_csv(\"../data/2_ds2_trimmed.csv\", index=False)\n"
   ]
  },
  {
   "cell_type": "code",
   "execution_count": null,
   "id": "f4e16c42",
   "metadata": {},
   "outputs": [],
   "source": []
  }
 ],
 "metadata": {
  "kernelspec": {
   "display_name": "Python 3 (ipykernel)",
   "language": "python",
   "name": "python3"
  },
  "language_info": {
   "codemirror_mode": {
    "name": "ipython",
    "version": 3
   },
   "file_extension": ".py",
   "mimetype": "text/x-python",
   "name": "python",
   "nbconvert_exporter": "python",
   "pygments_lexer": "ipython3",
   "version": "3.11.4"
  }
 },
 "nbformat": 4,
 "nbformat_minor": 5
}
